{
 "cells": [
  {
   "cell_type": "markdown",
   "id": "2f4d1e90",
   "metadata": {},
   "source": [
    "# Cab Investment EDA"
   ]
  },
  {
   "cell_type": "markdown",
   "id": "78463456",
   "metadata": {},
   "source": [
    "Open each CSV file in Microsoft Excel. Ensure that there are no missing values or duplicate values in unique fields. Load all four CSV files into Tableau. Inner Join each worksheet on the following shared fields appropriately: *Transaction Id, City*, and *Customer Id*. Rename the master data set as *Master_Cab.csv*. Hide duplicated fields. Create a calculated field in Tableau called *Profit* that calculates the profit from each ride transaction by subtracting appropriate fields (*Price of Trip* - *Price Charged*)."
   ]
  },
  {
   "cell_type": "markdown",
   "id": "99335062",
   "metadata": {},
   "source": [
    "*Master_Cab.CSV* now contains 359392 distinct ride transactions (rows) with 17 informative field variables (columns)."
   ]
  },
  {
   "cell_type": "markdown",
   "id": "9162547a",
   "metadata": {},
   "source": [
    "There are 49171 unique customers that have purchased cab rides in the master data set. *Customer_ID* identifies individual customers. 19 distinct cities can be identified from the master data set in *City*. *Date of Travel* identifies the date of each ride transaction. *Company* indicates whether a rider used the Pink Cab or Yellow Cab service. The remaining field variables can be intuitively understood."
   ]
  },
  {
   "cell_type": "markdown",
   "id": "3235cc43",
   "metadata": {},
   "source": [
    "Export *Master_Cab.csv* to Microsoft Excel. Filter by the *company* field to extract separate Pink Cab and Yellow Cab data tables. Rename these new worksheets as *Pink Table* and *Yellow Table*."
   ]
  },
  {
   "cell_type": "markdown",
   "id": "6e174537",
   "metadata": {},
   "source": [
    "With a new *Profit* field for every transaction from the master data set, we can create a profit time series for both the Yellow Cab and Pink Cab companies. To do this, we need to extract the unique dates of each company transaction and sum the daily profits accordingly. Create columns **A, B** and **C** such that column **A** holds all transaction dates, column **B** holds each unique date in the data set, and column **C** holds all respective ride profits for each transaction in **A**. Let (**m**-1) represent the total number of transactions in the specified company worksheet. **B** can be calculated using =UNIQUE(A2:A**m**). Let column **D** hold the daily profits of each row in column **B**. Calculate **D** by using =SUMIF(\\\\$A\\\\$2:\\\\$A\\\\$**m**, B**n**, \\\\$C\\\\$2:\\\\$C\\\\$**m**), where **n** runs through the set of unique dates in **B**. Drag copy the formula in **D** to calculate the daily profit for each date in **B**. Copy columns **B** and **D** to a new worksheet and save it as a profit time series CSV file. Do this for both the Yellow Cab and Pink Cab company worksheets. These files will be used later in company profit forecasts. Export these files to RStudio."
   ]
  },
  {
   "cell_type": "markdown",
   "id": "23560dbc",
   "metadata": {},
   "source": [
    "# Hypotheses and Results"
   ]
  },
  {
   "cell_type": "markdown",
   "id": "b39fe183",
   "metadata": {},
   "source": [
    "Dashboards in Tableau and forecasting in Rstudio were used to answer the following hypothesis inqueries:\n",
    "\n",
    "###### Which company has had greater profitibility from the data collected?\n",
    "From the available data, Yellow Cab grossed roughly \\\\$44 million. Pink Cab grossed roughly \\\\$5 million."
   ]
  },
  {
   "cell_type": "markdown",
   "id": "76e4cc8c",
   "metadata": {},
   "source": [
    "###### Can forecasting company profits reveal a competitive edge?\n",
    "After auto-generating two ARIMA forecast models for Yellow Cab and Pink Cab Profits, Yellow Cab is expected to outperform Pink Cab by roughly \\\\$27.3 million in the next year."
   ]
  },
  {
   "cell_type": "markdown",
   "id": "a0bbfda4",
   "metadata": {},
   "source": [
    "###### Is there a preferred cab company on common US holidays?\n",
    "Looking at cab rides on US holidays in previous years, Yellow Cab has outperformed Pink Cab in total rides. Pink Cab has had the highest proportion of holiday rides on Thanksgiving (25.7% of total cab rides). Overall, Yellow Cab has had the highest proportion of rides, exceeding 74% or higher on all US holidays.  "
   ]
  },
  {
   "cell_type": "markdown",
   "id": "b13936b2",
   "metadata": {},
   "source": [
    "###### How do ride profits differ by season?\n",
    "Both companies have grossed the most rides during the Fall season. Consequently, Fall grosses the highest seasonal profit for both companies. Pink Cab has profited the least in the Spring season, whereas Yellow Cab has profited the least in the summer season."
   ]
  },
  {
   "cell_type": "markdown",
   "id": "6f1a841d",
   "metadata": {},
   "source": [
    "###### Which cities return the most rides?\n",
    "The top 3 cities for total rides are New York, Chicago, and Los Angeles. "
   ]
  },
  {
   "cell_type": "markdown",
   "id": "707aeca2",
   "metadata": {},
   "source": [
    "###### Which cities return the most profit?\n",
    "The top 3 cities for total profit are New York, Los Angeles, and Washington D.C."
   ]
  }
 ],
 "metadata": {
  "kernelspec": {
   "display_name": "Python 3 (ipykernel)",
   "language": "python",
   "name": "python3"
  },
  "language_info": {
   "codemirror_mode": {
    "name": "ipython",
    "version": 3
   },
   "file_extension": ".py",
   "mimetype": "text/x-python",
   "name": "python",
   "nbconvert_exporter": "python",
   "pygments_lexer": "ipython3",
   "version": "3.9.13"
  }
 },
 "nbformat": 4,
 "nbformat_minor": 5
}
